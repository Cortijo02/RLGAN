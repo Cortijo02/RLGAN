{
 "cells": [
  {
   "cell_type": "markdown",
   "id": "32b07aa0",
   "metadata": {},
   "source": [
    "# Integrantes de la prácticas\n",
    "\n",
    "* Alejandro Cortijo Benito\n",
    "* Alejandro García Mota"
   ]
  },
  {
   "cell_type": "markdown",
   "id": "1ca86b53",
   "metadata": {},
   "source": [
    "# Librerias utilizadas"
   ]
  },
  {
   "cell_type": "code",
   "execution_count": 9,
   "id": "d9a5faf9",
   "metadata": {},
   "outputs": [],
   "source": [
    "import sys\n",
    "import os\n",
    "\n",
    "import random\n",
    "import numpy as np\n",
    "\n",
    "import gymnasium as gym\n",
    "from gymnasium.wrappers import RecordVideo\n",
    "\n",
    "from MLP import MLP\n",
    "from tqdm import tqdm\n",
    "\n",
    "import flappy_bird_gymnasium\n",
    "\n",
    "# from loky import get_reusable_executor\n",
    "\n",
    "# EXECUTOR = get_reusable_executor()"
   ]
  },
  {
   "cell_type": "markdown",
   "id": "52fc3777",
   "metadata": {},
   "source": [
    "# Arquitectura del MLP"
   ]
  },
  {
   "cell_type": "code",
   "execution_count": null,
   "id": "93066a6b",
   "metadata": {},
   "outputs": [
    {
     "data": {
      "text/plain": [
       "[12, 8, 2]"
      ]
     },
     "execution_count": 10,
     "metadata": {},
     "output_type": "execute_result"
    }
   ],
   "source": [
    "ARCHITECTURE = [12, 8, 2]\n",
    "ARCHITECTURE"
   ]
  },
  {
   "cell_type": "markdown",
   "id": "2ccab7e1",
   "metadata": {},
   "source": [
    "# Funciones utilizadas"
   ]
  },
  {
   "cell_type": "markdown",
   "id": "dafb6dc2",
   "metadata": {},
   "source": [
    "Hemos utilizado las conclusiones del LunarLander. "
   ]
  },
  {
   "cell_type": "code",
   "execution_count": 11,
   "id": "75957334",
   "metadata": {},
   "outputs": [],
   "source": [
    "def simulated_binary_crossover(ind1, ind2, pcross, eta=2):\n",
    "    ind1_copy, ind2_copy = [*ind1], [*ind2]\n",
    "    for i in range(len(ind1)):\n",
    "        if random.random() < pcross:\n",
    "            u = random.random()\n",
    "            beta = (2 * u) ** (1 / (eta + 1)) if u <= 0.5 else (1 / (2 * (1 - u))) ** (1 / (eta + 1))\n",
    "            ind1_copy[i] = 0.5 * ((1 + beta) * ind1[i] + (1 - beta) * ind2[i])\n",
    "            ind2_copy[i] = 0.5 * ((1 - beta) * ind1[i] + (1 + beta) * ind2[i])\n",
    "    return ind1_copy, ind2_copy\n",
    "\n",
    "def crossover_real_numbers (ind1, ind2, pcross):\n",
    "    ind1_copy, ind2_copy = [*ind1], [*ind2]\n",
    "    for i in range(len(ind1)):\n",
    "        if random.random() > pcross:\n",
    "            beta = random.uniform(1e-6, 1-1e-6)\n",
    "            ind1_copy[i] = beta * ind1[i] + (1 - beta) * ind2[i]\n",
    "            ind2_copy[i] = beta * ind2[i] + (1 - beta) * ind1[i]\n",
    "\n",
    "    return ind1_copy, ind2_copy\n",
    "\n",
    "\n",
    "def blend_crossover(ind1, ind2, pcross, alpha=0.5):\n",
    "    ind1_copy, ind2_copy = [*ind1], [*ind2]\n",
    "    for i in range(len(ind1)):\n",
    "        if random.random() < pcross:\n",
    "            gamma = (1 + 2 * alpha) * random.random() - alpha\n",
    "            ind1_copy[i] = (1 - gamma) * ind1[i] + gamma * ind2[i]\n",
    "            ind2_copy[i] = gamma * ind1[i] + (1 - gamma) * ind2[i]\n",
    "    return ind1_copy, ind2_copy"
   ]
  },
  {
   "cell_type": "markdown",
   "id": "4d8bab52",
   "metadata": {},
   "source": [
    "## Algoritmos genéticos de mutación"
   ]
  },
  {
   "cell_type": "markdown",
   "id": "53630682",
   "metadata": {},
   "source": [
    "Usamos `random_mutation` como en el LunarLander."
   ]
  },
  {
   "cell_type": "code",
   "execution_count": 12,
   "id": "fc38c413",
   "metadata": {},
   "outputs": [],
   "source": [
    "rang = (-1, 1)\n",
    "\n",
    "def polynomial_mutation(ind, pmut, eta=2):\n",
    "    ind_copy = [*ind]\n",
    "    for i in range(len(ind)):\n",
    "        if random.random() < pmut:\n",
    "            u = random.random()\n",
    "            delta = (2 * u) ** (1 / (eta + 1)) - 1 if u < 0.5 else 1 - (2 * (1 - u)) ** (1 / (eta + 1))\n",
    "            ind_copy[i] += delta\n",
    "    return ind_copy\n",
    "\n",
    "def gaussian_mutation(ind, pmut, sigma=0.2):\n",
    "    ind_copy = [*ind]\n",
    "    for i in range(len(ind)):\n",
    "        if random.random() < pmut:\n",
    "            ind_copy[i] += random.gauss(0, sigma)\n",
    "    return ind_copy\n",
    "\n",
    "def random_mutation(ind, pmut):\n",
    "    options = [polynomial_mutation, gaussian_mutation]\n",
    "\n",
    "    return random.choice(options)(ind, pmut)"
   ]
  },
  {
   "cell_type": "markdown",
   "id": "28a21e7e",
   "metadata": {},
   "source": [
    "## Política de acción"
   ]
  },
  {
   "cell_type": "markdown",
   "id": "201869b6",
   "metadata": {},
   "source": [
    "Hemos seguido una política greedy al igual que en la otra parte.   "
   ]
  },
  {
   "cell_type": "code",
   "execution_count": 13,
   "id": "a2dc06be",
   "metadata": {},
   "outputs": [],
   "source": [
    "def policy(model, observation, epsilon=0.01):\n",
    "    s = model.forward(observation) \n",
    "    if np.random.rand() < epsilon:  \n",
    "        action = np.random.randint(len(s))\n",
    "    else: \n",
    "        action = np.argmax(s)\n",
    "    return action"
   ]
  },
  {
   "cell_type": "markdown",
   "id": "17df014d",
   "metadata": {},
   "source": [
    "## Fitness "
   ]
  },
  {
   "cell_type": "markdown",
   "id": "89c6114f",
   "metadata": {},
   "source": [
    "Siguiendo los pasos del LunarLander..."
   ]
  },
  {
   "cell_type": "code",
   "execution_count": 14,
   "id": "9f6cec6f",
   "metadata": {},
   "outputs": [],
   "source": [
    "def fitness (ch):\n",
    "    env = gym.make(\"FlappyBird-v0\", render_mode=None, use_lidar=False)\n",
    "\n",
    "    rewards_list = []\n",
    "    for _ in range(3):\n",
    "        observation, _ = env.reset()\n",
    "        racum = 0\n",
    "        while True:\n",
    "            model = MLP(ARCHITECTURE)\n",
    "            model.from_chromosome(ch)\n",
    "            action = policy(model, observation)\n",
    "            observation, reward, terminated, truncated, _ = env.step(action)\n",
    "            racum += reward\n",
    "\n",
    "            if terminated or truncated:\n",
    "                rewards_list.append(racum)\n",
    "                break\n",
    "    \n",
    "    return sum(rewards_list) / len(rewards_list)"
   ]
  },
  {
   "cell_type": "markdown",
   "id": "e2f72839",
   "metadata": {},
   "source": [
    "## Proceso de evolución"
   ]
  },
  {
   "cell_type": "markdown",
   "id": "2b020171",
   "metadata": {},
   "source": [
    "Reutilizando y adaptando ligeramente el entorno, hemos implementado el proceso de evolución."
   ]
  },
  {
   "cell_type": "code",
   "execution_count": 15,
   "id": "898ea3a7",
   "metadata": {},
   "outputs": [],
   "source": [
    "def show(ind):\n",
    "    env = gym.make(\"FlappyBird-v0\", render_mode=\"human\", use_lidar=False)\n",
    "\n",
    "    observation, _ = env.reset()\n",
    "    while True:\n",
    "        model = MLP(ARCHITECTURE)\n",
    "        model.from_chromosome(ind)\n",
    "        action = policy(model, observation)\n",
    "        observation, _, terminated, truncated, _ = env.step(action)\n",
    "\n",
    "        if any([truncated, terminated]):\n",
    "            observation, _ = env.reset()\n",
    "            break\n",
    "\n",
    "    env.close()\n",
    "\n",
    "def select (pop, T): \n",
    "    selected = [random.randint(0, len(pop)-1) for _ in range(T)]\n",
    "    return [*pop[min(selected)]]\n",
    "\n",
    "def sort_pop (pop, fit): \n",
    "    # fitness_list = EXECUTOR.map(fit, pop) # Loky\n",
    "    fitness_list = list(map(fit, pop))\n",
    "    sorted_pop_fitness = sorted(zip(pop, fitness_list), key=lambda x: x[1], reverse=True)\n",
    "    return [x[1] for x in sorted_pop_fitness], [x[0] for x in sorted_pop_fitness]\n",
    "\n",
    "def evolution (pop, fit, pmut, pcross=0.7, ngen=100, T=2):\n",
    "    initial_pop = [*pop]\n",
    "    historical_best = []\n",
    "    best_fitness = sys.maxsize * -1\n",
    "    pbar = tqdm(range(ngen), desc=\"Processing\")\n",
    "    for i in pbar:\n",
    "        sorted_fitnesses, sorted_pop = sort_pop(initial_pop, fit)\n",
    "        current_best = sorted_pop[0]\n",
    "        selected_pop = [select(sorted_pop, T) for _ in range(len(initial_pop))]\n",
    "\n",
    "        crossed_pop = []\n",
    "        for j in range(0, len(selected_pop)-1, 2):\n",
    "            crossed_pop.extend(simulated_binary_crossover(selected_pop[j], selected_pop[j+1], pcross))\n",
    "        if len(selected_pop) % 2 != 0:\n",
    "            crossed_pop.append(selected_pop[-1])\n",
    "        \n",
    "        mutated_pop = [random_mutation(ind, pmut) for ind in crossed_pop]\n",
    "        \n",
    "        if  sorted_fitnesses[0] > best_fitness:\n",
    "            show(current_best)\n",
    "            historical_best = current_best\n",
    "            best_fitness = sorted_fitnesses[0]\n",
    "            np.save(\"weight_flappy/current_best_chromosome.npy\", historical_best)\n",
    "            np.save(\"weight_flappy/current_best_architecture.npy\", ARCHITECTURE)\n",
    "\n",
    "        initial_pop = mutated_pop\n",
    "        \n",
    "        pbar.set_postfix(current_best=sorted_fitnesses[0], best_fitness=best_fitness)\n",
    "\n",
    "\n",
    "    initial_pop.insert(0, historical_best)\n",
    "    return initial_pop"
   ]
  },
  {
   "cell_type": "markdown",
   "id": "a7823b50",
   "metadata": {},
   "source": [
    "# Experimentos"
   ]
  },
  {
   "cell_type": "markdown",
   "id": "254a2ef7",
   "metadata": {},
   "source": [
    "En la siguiente celda dejamos la configuración final:\n",
    "\n",
    "* `pop`: Población del 100 individuos\n",
    "* `ARCHITECTURE`: Definida al principio del cuaderno ([12, 8, 2])\n",
    "* `pmut`: 0.1\n",
    "* `pcross`: 0.9\n",
    "* `ngen`: 750\n",
    "* `T`: Tamaño del torneo igual a 8"
   ]
  },
  {
   "cell_type": "code",
   "execution_count": null,
   "id": "55ede9cc",
   "metadata": {},
   "outputs": [
    {
     "name": "stderr",
     "output_type": "stream",
     "text": [
      "Processing:   0%|          | 0/750 [00:00<?, ?it/s]"
     ]
    },
    {
     "name": "stderr",
     "output_type": "stream",
     "text": [
      "Processing:  61%|██████▏   | 460/750 [11:25<07:42,  1.59s/it, best_fitness=35, current_best=17.9]  "
     ]
    }
   ],
   "source": [
    "population_size = 100\n",
    "\n",
    "pop = [MLP(ARCHITECTURE).to_chromosome() for _ in range(population_size)]\n",
    "\n",
    "# evolution (pop, fit, pmut, pcross, ngen, T)\n",
    "pop = evolution(pop, fitness, 0.1, pcross=0.9, ngen=750, T=8)"
   ]
  },
  {
   "cell_type": "code",
   "execution_count": null,
   "id": "d5458e32",
   "metadata": {},
   "outputs": [],
   "source": [
    "np.save(\"f_best_chromosome.npy\", pop[0])\n",
    "\n",
    "env = gym.make(\"FlappyBird-v0\", render_mode=\"rgb_array\")\n",
    "env = RecordVideo(env, video_folder=\"./video_flappy\", episode_trigger=lambda x: True)\n",
    "\n",
    "observation, _ = env.reset()\n",
    "iters = 0\n",
    "while True:\n",
    "    model = MLP(ARCHITECTURE)\n",
    "    model.from_chromosome(pop[0])\n",
    "\n",
    "    action = policy(model, observation)\n",
    "    observation, _, terminated, truncated, _ = env.step(action)\n",
    "\n",
    "    env.render()\n",
    "\n",
    "    if any([truncated, terminated]):\n",
    "        observation, _ = env.reset()\n",
    "        iters += 1\n",
    "\n",
    "    if iters == 10:\n",
    "        break\n",
    "\n",
    "env.close()"
   ]
  },
  {
   "cell_type": "code",
   "execution_count": null,
   "id": "0aafcf00",
   "metadata": {},
   "outputs": [],
   "source": [
    "video_folder = \"./video_flappy\"\n",
    "output_video = \"./video/output_video.mp4\"\n",
    "file_list_path = os.path.join(video_folder, \"file_list.txt\")\n",
    "\n",
    "video_files = sorted([f for f in os.listdir(video_folder) if f.endswith(\".mp4\")])\n",
    "\n",
    "with open(file_list_path, \"w\") as file:\n",
    "    for video in video_files:\n",
    "        file.write(f\"file '{video}'\\n\")\n",
    "\n",
    "# ffmpeg para unir los videos (hay que descargarlo en local)\n",
    "ffmpeg_command = [\n",
    "    \"ffmpeg\",\n",
    "    \"-f\", \"concat\",\n",
    "    \"-safe\", \"0\",\n",
    "    \"-i\", file_list_path,\n",
    "    \"-c\", \"copy\",\n",
    "    output_video\n",
    "]\n",
    "\n",
    "os.remove(file_list_path)"
   ]
  },
  {
   "cell_type": "markdown",
   "id": "163034a7",
   "metadata": {},
   "source": [
    "### ¿Cómo contruir el fitness para aplicar genéticos?\n",
    "\n",
    " * El módulo MLP ya tiene implementado el perceptrón multicapa. Se construye con MLP(architecture).\n",
    " * Architecture es una tupla (entradas, capa1, capa2, ...).\n",
    " * La función fitness toma el cromosoma del individuo y lo convierte a pesos del MLP con model.from_chromosome(ch).\n",
    " * usa run para N casos (esto da estabilidad) y calcula el refuerzo medio.\n",
    " * Este refuerzo medio es el fitness del individuo."
   ]
  },
  {
   "cell_type": "markdown",
   "id": "f7ff5933",
   "metadata": {},
   "source": [
    "#### ¿No has tenido bastante?\n",
    "\n",
    "Prueba a controlar el flappy bird https://github.com/markub3327/flappy-bird-gymnasium\n",
    "\n",
    "pip install flappy-bird-gymnasium\n",
    "\n",
    "import flappy_bird_gymnasium  \n",
    "env = gym.make(\"FlappyBird-v0\")\n",
    "\n",
    "Estado (12 variables):\n",
    "  * the last pipe's horizontal position\n",
    "  * the last top pipe's vertical position\n",
    "  * the last bottom pipe's vertical position\n",
    "  * the next pipe's horizontal position\n",
    "  * the next top pipe's vertical position\n",
    "  * he next bottom pipe's vertical position\n",
    "  * the next next pipe's horizontal position\n",
    "  * the next next top pipe's vertical position\n",
    "  * the next next bottom pipe's vertical position\n",
    "  * player's vertical position\n",
    "  * player's vertical velocity\n",
    "  * player's rotation\n",
    "\n",
    "  Acciones:\n",
    "  * 0 -> no hacer nada\n",
    "  * 1 -> volar"
   ]
  }
 ],
 "metadata": {
  "kernelspec": {
   "display_name": "venv",
   "language": "python",
   "name": "python3"
  },
  "language_info": {
   "codemirror_mode": {
    "name": "ipython",
    "version": 3
   },
   "file_extension": ".py",
   "mimetype": "text/x-python",
   "name": "python",
   "nbconvert_exporter": "python",
   "pygments_lexer": "ipython3",
   "version": "3.10.12"
  }
 },
 "nbformat": 4,
 "nbformat_minor": 5
}
