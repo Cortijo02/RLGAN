{
 "cells": [
  {
   "attachments": {},
   "cell_type": "markdown",
   "id": "3ce62d5d",
   "metadata": {},
   "source": [
    "### Documentación\n",
    "\n",
    "Problemas interesantes para Aprendizaje por refuerzo\n",
    " * Gymnasium: https://gymnasium.farama.org/environments/box2d/"
   ]
  },
  {
   "attachments": {},
   "cell_type": "markdown",
   "id": "57c172cf-929c-4be0-b79e-d3da9d17c343",
   "metadata": {},
   "source": [
    "## Instalación\n",
    "\n",
    "%pip install gymnasium  \n",
    "%pip install gymnasium[box2d] \n",
    "\n",
    "## Acciones adicionales\n",
    "\n",
    "Pueden ser necesarias *antes* de instalar gymnasium[box2d].\n",
    "\n",
    "### En macos\n",
    "\n",
    "pip uninstall swig  \n",
    "xcode-select -—install (instala las herramientas de desarrollador si no se tienen ya)  \n",
    "pip install swig  / sudo port install swig-python  \n",
    "pip install 'gymnasium[box2d]' # en zsh hay que poner las comillas  \n",
    "\n",
    "### en Windows\n",
    "\n",
    "pip install swig\n",
    "\n",
    "Si da error al instalar box2d, se debe a la falta de la versión correcta de Microsoft C++ Build Tools, que es una dependencia de Box2D.  \n",
    "Para solucionar este problema, puede seguir los siguientes pasos:\n",
    " * %pip install --upgrade wheel setuptools\n",
    " * Descargar Microsoft C++ Build Tools desde https://visualstudio.microsoft.com/visual-cpp-build-tools/.\n",
    " * Dentro del instalador, seleccione la opción \"Desarrollo para el escritorio con C++\"\n",
    " * Reinicie su sesión en Jupyter Notebook o en Visual Studio.\n",
    " * Ejecute nuevamente el comando %pip install gymnasium[box2d] en la línea de comandos de su notebook.\n",
    "\n",
    "### En linux (colab)\n",
    "  * pip install swig"
   ]
  },
  {
   "cell_type": "code",
   "execution_count": null,
   "id": "e2e7a384-a993-4330-b213-03d2f02ed3ab",
   "metadata": {},
   "outputs": [],
   "source": [
    "# prueba lunar lander por humano\n",
    "\n",
    "import gymnasium as gym\n",
    "\n",
    "env = gym.make(\"LunarLander-v3\", render_mode=\"rgb_array\")\n",
    "\n",
    "import numpy as np\n",
    "import pygame\n",
    "import gymnasium.utils.play\n",
    "\n",
    "lunar_lander_keys = {\n",
    "    (pygame.K_UP,): 2,\n",
    "    (pygame.K_LEFT,): 1,\n",
    "    (pygame.K_RIGHT,): 3,\n",
    "}\n",
    "gymnasium.utils.play.play(env, zoom=3, keys_to_action=lunar_lander_keys, noop=0)"
   ]
  },
  {
   "cell_type": "code",
   "execution_count": 2,
   "id": "40a50806",
   "metadata": {},
   "outputs": [],
   "source": [
    "# prueba lunar lander por agente\n",
    "\n",
    "import gymnasium as gym\n",
    "\n",
    "env = gym.make(\"LunarLander-v3\", render_mode=\"human\")\n",
    "\n",
    "def run ():\n",
    "    #observation, info = env.reset(seed=42)\n",
    "    observation, info = env.reset()\n",
    "    ite = 0\n",
    "    racum = 0\n",
    "    while True:\n",
    "        action = policy(observation)\n",
    "        observation, reward, terminated, truncated, info = env.step(action)\n",
    "        \n",
    "        racum += reward\n",
    "\n",
    "        if terminated or truncated:\n",
    "            r = (racum+200) / 500\n",
    "            print(racum, r)\n",
    "            return racum\n",
    "    \n",
    "#run()"
   ]
  },
  {
   "cell_type": "markdown",
   "id": "163034a7",
   "metadata": {},
   "source": [
    "### ¿Cómo contruir el fitness para aplicar genéticos?\n",
    "\n",
    " * El módulo MLP ya tiene implementado el perceptrón multicapa. Se construye con MLP(architecture).\n",
    " * Architecture es una tupla (entradas, capa1, capa2, ...).\n",
    " * La función fitness toma el cromosoma del individuo y lo convierte a pesos del MLP con model.from_chromosome(ch).\n",
    " * usa run para N casos (esto da estabilidad) y calcula el refuerzo medio.\n",
    " * Este refuerzo medio es el fitness del individuo."
   ]
  },
  {
   "cell_type": "code",
   "execution_count": null,
   "id": "872b9955",
   "metadata": {},
   "outputs": [],
   "source": [
    "# neuroevolución\n",
    "\n",
    "# construir modelo\n",
    "from MLP import MLP\n",
    "\n",
    "architecture = [...]\n",
    "model = MLP(architecture)\n",
    "ch = [...]\n",
    "model.from_chromosome(ch)\n",
    "\n",
    "# pasar al modelo los pesos del mejor cromosoma obtenido con neuroevolución\n",
    "\n",
    "import numpy as np\n",
    "\n",
    "# definir política\n",
    "def policy (observation):\n",
    "    s = model.forward(observation)\n",
    "    action = np.argmax(s)\n",
    "    return action"
   ]
  },
  {
   "cell_type": "code",
   "execution_count": 7,
   "id": "60bf4013",
   "metadata": {},
   "outputs": [
    {
     "name": "stdout",
     "output_type": "stream",
     "text": [
      "274.9540857513989 0.9499081715027978\n",
      "143.2866076746264 0.6865732153492528\n",
      "243.3657119129678 0.8867314238259356\n",
      "295.44532836452765 0.9908906567290553\n",
      "303.79713143903007 1.00759426287806\n",
      "260.2921492161858 0.9205842984323717\n",
      "285.56948735597706 0.9711389747119541\n",
      "249.44539924701303 0.8988907984940261\n",
      "161.31490600400647 0.722629812008013\n",
      "59.34961684962809 0.5186992336992562\n",
      "Refuerzo medio 227.68204238153612\n"
     ]
    }
   ],
   "source": [
    "N = 10\n",
    "r = 0\n",
    "for _ in range(N):\n",
    "    r += run()\n",
    "    \n",
    "print('Refuerzo medio', r/N)"
   ]
  },
  {
   "cell_type": "code",
   "execution_count": null,
   "id": "afb9db77",
   "metadata": {},
   "outputs": [],
   "source": [
    "# para paralelizar el map incluso en windows\n",
    "# https://github.com/joblib/loky\n",
    "\n",
    "from loky import get_reusable_executor\n",
    "executor = get_reusable_executor()\n",
    "\n",
    "# results = executor.map(fitness, poblacion)"
   ]
  },
  {
   "cell_type": "markdown",
   "id": "f7ff5933",
   "metadata": {},
   "source": [
    "#### ¿No has tenido bastante?\n",
    "\n",
    "Prueba a controlar el flappy bird https://github.com/markub3327/flappy-bird-gymnasium\n",
    "\n",
    "pip install flappy-bird-gymnasium\n",
    "\n",
    "import flappy_bird_gymnasium  \n",
    "env = gym.make(\"FlappyBird-v0\")\n",
    "\n",
    "Estado (12 variables):\n",
    "  * the last pipe's horizontal position\n",
    "  * the last top pipe's vertical position\n",
    "  * the last bottom pipe's vertical position\n",
    "  * the next pipe's horizontal position\n",
    "  * the next top pipe's vertical position\n",
    "  * he next bottom pipe's vertical position\n",
    "  * the next next pipe's horizontal position\n",
    "  * the next next top pipe's vertical position\n",
    "  * the next next bottom pipe's vertical position\n",
    "  * player's vertical position\n",
    "  * player's vertical velocity\n",
    "  * player's rotation\n",
    "\n",
    "  Acciones:\n",
    "  * 0 -> no hacer nada\n",
    "  * 1 -> volar"
   ]
  }
 ],
 "metadata": {
  "kernelspec": {
   "display_name": "Python 3",
   "language": "python",
   "name": "python3"
  },
  "language_info": {
   "codemirror_mode": {
    "name": "ipython",
    "version": 3
   },
   "file_extension": ".py",
   "mimetype": "text/x-python",
   "name": "python",
   "nbconvert_exporter": "python",
   "pygments_lexer": "ipython3",
   "version": "3.12.2"
  }
 },
 "nbformat": 4,
 "nbformat_minor": 5
}
