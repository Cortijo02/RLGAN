{
 "cells": [
  {
   "cell_type": "markdown",
   "id": "16f8d9cc",
   "metadata": {},
   "source": [
    "# Integrantes de la prácticas\n",
    "\n",
    "* Alejandro Cortijo Benito\n",
    "* Alejandro García Mota"
   ]
  },
  {
   "cell_type": "markdown",
   "id": "169c0cfb",
   "metadata": {},
   "source": [
    "# Librerias utilizadas"
   ]
  },
  {
   "cell_type": "code",
   "execution_count": 26,
   "id": "d9a5faf9",
   "metadata": {},
   "outputs": [],
   "source": [
    "import sys\n",
    "import os\n",
    "\n",
    "import random\n",
    "import numpy as np\n",
    "\n",
    "import gymnasium as gym\n",
    "from gymnasium.wrappers import RecordVideo\n",
    "\n",
    "from MLP import MLP\n",
    "from tqdm import tqdm\n",
    "\n",
    "from loky import get_reusable_executor\n",
    "\n",
    "EXECUTOR = get_reusable_executor()"
   ]
  },
  {
   "cell_type": "markdown",
   "id": "f98adb79",
   "metadata": {},
   "source": [
    "# Arquitectura del MLP"
   ]
  },
  {
   "cell_type": "code",
   "execution_count": 9,
   "id": "75a1150a",
   "metadata": {},
   "outputs": [
    {
     "data": {
      "text/plain": [
       "[8, 6, 4]"
      ]
     },
     "execution_count": 9,
     "metadata": {},
     "output_type": "execute_result"
    }
   ],
   "source": [
    "ARCHITECTURE = [8, 6, 4]\n",
    "ARCHITECTURE"
   ]
  },
  {
   "cell_type": "markdown",
   "id": "b676b990",
   "metadata": {},
   "source": [
    "# Funciones utilizadas"
   ]
  },
  {
   "cell_type": "markdown",
   "id": "fc34be56",
   "metadata": {},
   "source": [
    "## Algoritmos genéticos de cruces"
   ]
  },
  {
   "cell_type": "markdown",
   "id": "da264a63",
   "metadata": {},
   "source": [
    "Para el desarrollo de la práctica probamos diferentes estrategías para combinar los pesos de los \"padres\". En la siguiente celda, dejaremos algunas de las propuestas que tuvimos en cuenta. Cabe destacar que la que mejores resultados nos dió fue `simulated_binary_crossover()` y será la que usaremos en las siguientes secciones."
   ]
  },
  {
   "cell_type": "code",
   "execution_count": 11,
   "id": "0f975d7c",
   "metadata": {},
   "outputs": [],
   "source": [
    "def simulated_binary_crossover(ind1, ind2, pcross, eta=2):\n",
    "    ind1_copy, ind2_copy = [*ind1], [*ind2]\n",
    "    for i in range(len(ind1)):\n",
    "        if random.random() < pcross:\n",
    "            u = random.random()\n",
    "            beta = (2 * u) ** (1 / (eta + 1)) if u <= 0.5 else (1 / (2 * (1 - u))) ** (1 / (eta + 1))\n",
    "            ind1_copy[i] = 0.5 * ((1 + beta) * ind1[i] + (1 - beta) * ind2[i])\n",
    "            ind2_copy[i] = 0.5 * ((1 - beta) * ind1[i] + (1 + beta) * ind2[i])\n",
    "    return ind1_copy, ind2_copy\n",
    "\n",
    "def crossover_real_numbers (ind1, ind2, pcross):\n",
    "    ind1_copy, ind2_copy = [*ind1], [*ind2]\n",
    "    for i in range(len(ind1)):\n",
    "        if random.random() > pcross:\n",
    "            beta = random.uniform(1e-6, 1-1e-6)\n",
    "            ind1_copy[i] = beta * ind1[i] + (1 - beta) * ind2[i]\n",
    "            ind2_copy[i] = beta * ind2[i] + (1 - beta) * ind1[i]\n",
    "\n",
    "    return ind1_copy, ind2_copy\n",
    "\n",
    "\n",
    "def blend_crossover(ind1, ind2, pcross, alpha=0.5):\n",
    "    ind1_copy, ind2_copy = [*ind1], [*ind2]\n",
    "    for i in range(len(ind1)):\n",
    "        if random.random() < pcross:\n",
    "            gamma = (1 + 2 * alpha) * random.random() - alpha\n",
    "            ind1_copy[i] = (1 - gamma) * ind1[i] + gamma * ind2[i]\n",
    "            ind2_copy[i] = gamma * ind1[i] + (1 - gamma) * ind2[i]\n",
    "    return ind1_copy, ind2_copy"
   ]
  },
  {
   "cell_type": "markdown",
   "id": "90390167",
   "metadata": {},
   "source": [
    "## Algoritmos genéticos de mutación"
   ]
  },
  {
   "cell_type": "markdown",
   "id": "07f67a8d",
   "metadata": {},
   "source": [
    "De manera similar a los algoritmos de cruce, hemos probado varios algoritmos de mutaciones con el proposito de mejorar los resultados poco a poco. Finalmente, decidimos seleccionar una `random_mutation()` entre una mutación polinomial y una gaussiana. Cabe destacar que utilizar una `gaussian_mutation()` también da buenos resultados, pero consideramos que establecer un poco de aleatoriedad puede enriquecer aún más el proceso."
   ]
  },
  {
   "cell_type": "code",
   "execution_count": 12,
   "id": "203bcfe7",
   "metadata": {},
   "outputs": [],
   "source": [
    "rang = (-1, 1)\n",
    "\n",
    "def polynomial_mutation(ind, pmut, eta=2):\n",
    "    ind_copy = [*ind]\n",
    "    for i in range(len(ind)):\n",
    "        if random.random() < pmut:\n",
    "            u = random.random()\n",
    "            delta = (2 * u) ** (1 / (eta + 1)) - 1 if u < 0.5 else 1 - (2 * (1 - u)) ** (1 / (eta + 1))\n",
    "            ind_copy[i] += delta\n",
    "    return ind_copy\n",
    "\n",
    "def mutate_swap_real_numbers (ind, pmut): \n",
    "    ind_copy = [*ind]\n",
    "    for i in range(len(ind)):\n",
    "        if random.random() < pmut:\n",
    "            ind_copy[i] = random.uniform(rang[0], rang[1])\n",
    "    return ind_copy\n",
    "\n",
    "def gaussian_mutation(ind, pmut, sigma=0.2):\n",
    "    ind_copy = [*ind]\n",
    "    for i in range(len(ind)):\n",
    "        if random.random() < pmut:\n",
    "            ind_copy[i] += random.gauss(0, sigma)\n",
    "    return ind_copy\n",
    "\n",
    "def random_mutation(ind, pmut):\n",
    "    options = [polynomial_mutation, gaussian_mutation]\n",
    "\n",
    "    return random.choice(options)(ind, pmut)"
   ]
  },
  {
   "cell_type": "markdown",
   "id": "1383f06c",
   "metadata": {},
   "source": [
    "## Política de acción"
   ]
  },
  {
   "cell_type": "markdown",
   "id": "b13ceb16",
   "metadata": {},
   "source": [
    "Hemos seguido una política greedy para decidir que acción tomar. Al principio, probamos a explotar cada acción seleccionando el máximo pero no conseguimos buenos.   "
   ]
  },
  {
   "cell_type": "code",
   "execution_count": 13,
   "id": "d19b88ce",
   "metadata": {},
   "outputs": [],
   "source": [
    "def policy(model, observation, epsilon=0.01):\n",
    "    s = model.forward(observation) \n",
    "    if np.random.rand() < epsilon:  \n",
    "        action = np.random.randint(len(s))\n",
    "    else: \n",
    "        action = np.argmax(s)\n",
    "    return action"
   ]
  },
  {
   "cell_type": "markdown",
   "id": "d828c978",
   "metadata": {},
   "source": [
    "## Fitness "
   ]
  },
  {
   "cell_type": "markdown",
   "id": "7db6f18d",
   "metadata": {},
   "source": [
    "Utilizando como referencia la función `run()` de la plantilla de la práctica, decidimos implementar nuestra propia función para evaluar qué tan buena es nuestra MLP. Para mejorar el refuerzo hemos establecido un bucle de $3$ iteraciones."
   ]
  },
  {
   "cell_type": "code",
   "execution_count": 15,
   "id": "9a253dae",
   "metadata": {},
   "outputs": [],
   "source": [
    "def fitness (ch):\n",
    "    env = gym.make(\"LunarLander-v3\", render_mode=None)\n",
    "\n",
    "    rewards_list = []\n",
    "    for _ in range(3):\n",
    "        observation, _ = env.reset()\n",
    "        racum = 0\n",
    "        while True:\n",
    "            model = MLP(ARCHITECTURE)\n",
    "            model.from_chromosome(ch)\n",
    "            action = policy(model, observation)\n",
    "            observation, reward, terminated, truncated, _ = env.step(action)\n",
    "            racum += reward\n",
    "\n",
    "            if terminated or truncated:\n",
    "                rewards_list.append(racum)\n",
    "                break\n",
    "    \n",
    "    return sum(rewards_list) / len(rewards_list)"
   ]
  },
  {
   "cell_type": "markdown",
   "id": "a56f7716",
   "metadata": {},
   "source": [
    "## Proceso de evolución"
   ]
  },
  {
   "cell_type": "markdown",
   "id": "5585ac7a",
   "metadata": {},
   "source": [
    "En este proceso además de usar las funcione definidas previamente, también hemos definido otras como: `select()` para devolver un individuo por torneo, `sort_pop()` pra ordenar la población en base al fitness obtenido, `show()` para ver durante la evolución el desempeño del mejor individuo a tiempo real y `evolution()` donde se lleva acabo el proceso de evolución y guardamos los pesos de los mejores individuos."
   ]
  },
  {
   "cell_type": "code",
   "execution_count": 21,
   "id": "b8a8382e",
   "metadata": {},
   "outputs": [],
   "source": [
    "def show(ind):\n",
    "    env = gym.make(\"LunarLander-v3\", render_mode=\"human\")\n",
    "\n",
    "    observation, _ = env.reset()\n",
    "    while True:\n",
    "        model = MLP(ARCHITECTURE)\n",
    "        model.from_chromosome(ind)\n",
    "        action = policy(model, observation)\n",
    "        observation, _, terminated, truncated, _ = env.step(action)\n",
    "\n",
    "        if any([truncated, terminated]):\n",
    "            observation, _ = env.reset()\n",
    "            break\n",
    "\n",
    "    env.close()\n",
    "\n",
    "def select (pop, T): \n",
    "    selected = [random.randint(0, len(pop)-1) for _ in range(T)]\n",
    "    return [*pop[min(selected)]]\n",
    "\n",
    "def sort_pop (pop, fit): \n",
    "    fitness_list = EXECUTOR.map(fit, pop) # Loky\n",
    "    sorted_pop_fitness = sorted(zip(pop, fitness_list), key=lambda x: x[1], reverse=True)\n",
    "    return [x[1] for x in sorted_pop_fitness], [x[0] for x in sorted_pop_fitness]\n",
    "\n",
    "def evolution (pop, fit, pmut, pcross=0.7, ngen=100, T=2):\n",
    "    initial_pop = [*pop]\n",
    "    historical_best = []\n",
    "    best_fitness = sys.maxsize * -1\n",
    "    pbar = tqdm(range(ngen), desc=\"Processing\")\n",
    "    for i in pbar:\n",
    "        sorted_fitnesses, sorted_pop = sort_pop(initial_pop, fit)\n",
    "        current_best = sorted_pop[0]\n",
    "        selected_pop = [select(sorted_pop, T) for _ in range(len(initial_pop))]\n",
    "\n",
    "        crossed_pop = []\n",
    "        for j in range(0, len(selected_pop)-1, 2):\n",
    "            crossed_pop.extend(simulated_binary_crossover(selected_pop[j], selected_pop[j+1], pcross))\n",
    "        if len(selected_pop) % 2 != 0:\n",
    "            crossed_pop.append(selected_pop[-1])\n",
    "        \n",
    "        mutated_pop = [random_mutation(ind, pmut) for ind in crossed_pop]\n",
    "        \n",
    "        if  sorted_fitnesses[0] > best_fitness:\n",
    "            show(current_best)\n",
    "            historical_best = current_best\n",
    "            best_fitness = sorted_fitnesses[0]\n",
    "            np.save(\"weight/current_best_chromosome.npy\", historical_best)\n",
    "            np.save(\"weight/current_best_architecture.npy\", ARCHITECTURE)\n",
    "\n",
    "        initial_pop = mutated_pop\n",
    "        \n",
    "        pbar.set_postfix(current_best=sorted_fitnesses[0], best_fitness=best_fitness)\n",
    "\n",
    "\n",
    "    initial_pop.insert(0, historical_best)\n",
    "    return initial_pop"
   ]
  },
  {
   "cell_type": "markdown",
   "id": "165635e1",
   "metadata": {},
   "source": [
    "## Experimentos"
   ]
  },
  {
   "cell_type": "markdown",
   "id": "c4b8e5b8",
   "metadata": {},
   "source": [
    "En la siguiente celda dejamos la configuración final:\n",
    "\n",
    "* `pop`: Población del 100 individuos\n",
    "* `ARCHITECTURE`: Definida al principio del cuaderno ([8, 6, 4])\n",
    "* `pmut`: 0.1\n",
    "* `pcross`: 0.9\n",
    "* `ngen`: 750\n",
    "* `T`: Tamaño del torneo igual a 8"
   ]
  },
  {
   "cell_type": "code",
   "execution_count": 22,
   "id": "55ede9cc",
   "metadata": {},
   "outputs": [
    {
     "name": "stderr",
     "output_type": "stream",
     "text": [
      "Processing:  76%|███████▌  | 569/750 [12:12<02:08,  1.41it/s, best_fitness=319, current_best=301]  /home/corti/RLGAN/MLP.py:34: RuntimeWarning: overflow encountered in exp\n",
      "  return 1.0 / (1.0 + np.exp(-neta))\n",
      "Processing:  76%|███████▌  | 570/750 [12:13<02:08,  1.40it/s, best_fitness=319, current_best=311]/home/corti/RLGAN/MLP.py:34: RuntimeWarning: overflow encountered in exp\n",
      "  return 1.0 / (1.0 + np.exp(-neta))\n",
      "Processing:  76%|███████▌  | 571/750 [12:14<02:09,  1.38it/s, best_fitness=319, current_best=297]/home/corti/RLGAN/MLP.py:34: RuntimeWarning: overflow encountered in exp\n",
      "  return 1.0 / (1.0 + np.exp(-neta))\n",
      "/home/corti/RLGAN/MLP.py:34: RuntimeWarning: overflow encountered in exp\n",
      "  return 1.0 / (1.0 + np.exp(-neta))\n",
      "/home/corti/RLGAN/MLP.py:34: RuntimeWarning: overflow encountered in exp\n",
      "  return 1.0 / (1.0 + np.exp(-neta))\n",
      "/home/corti/RLGAN/MLP.py:34: RuntimeWarning: overflow encountered in exp\n",
      "  return 1.0 / (1.0 + np.exp(-neta))\n",
      "Processing:  76%|███████▋  | 572/750 [12:14<02:05,  1.42it/s, best_fitness=319, current_best=305]/home/corti/RLGAN/MLP.py:34: RuntimeWarning: overflow encountered in exp\n",
      "  return 1.0 / (1.0 + np.exp(-neta))\n",
      "Processing:  77%|███████▋  | 574/750 [12:16<02:06,  1.40it/s, best_fitness=319, current_best=310]/home/corti/RLGAN/MLP.py:34: RuntimeWarning: overflow encountered in exp\n",
      "  return 1.0 / (1.0 + np.exp(-neta))\n",
      "/home/corti/RLGAN/MLP.py:34: RuntimeWarning: overflow encountered in exp\n",
      "  return 1.0 / (1.0 + np.exp(-neta))\n",
      "Processing:  77%|███████▋  | 576/750 [12:17<02:13,  1.31it/s, best_fitness=319, current_best=298]/home/corti/RLGAN/MLP.py:34: RuntimeWarning: overflow encountered in exp\n",
      "  return 1.0 / (1.0 + np.exp(-neta))\n",
      "Processing:  84%|████████▎ | 627/750 [12:53<01:30,  1.37it/s, best_fitness=319, current_best=303]/home/corti/RLGAN/MLP.py:34: RuntimeWarning: overflow encountered in exp\n",
      "  return 1.0 / (1.0 + np.exp(-neta))\n",
      "Processing:  84%|████████▎ | 628/750 [12:54<01:29,  1.36it/s, best_fitness=319, current_best=305]/home/corti/RLGAN/MLP.py:34: RuntimeWarning: overflow encountered in exp\n",
      "  return 1.0 / (1.0 + np.exp(-neta))\n",
      "Processing:  84%|████████▍ | 630/750 [12:55<01:29,  1.34it/s, best_fitness=319, current_best=298]/home/corti/RLGAN/MLP.py:34: RuntimeWarning: overflow encountered in exp\n",
      "  return 1.0 / (1.0 + np.exp(-neta))\n",
      "Processing:  84%|████████▍ | 632/750 [12:57<01:30,  1.30it/s, best_fitness=319, current_best=305]/home/corti/RLGAN/MLP.py:34: RuntimeWarning: overflow encountered in exp\n",
      "  return 1.0 / (1.0 + np.exp(-neta))\n",
      "/home/corti/RLGAN/MLP.py:34: RuntimeWarning: overflow encountered in exp\n",
      "  return 1.0 / (1.0 + np.exp(-neta))\n",
      "/home/corti/RLGAN/MLP.py:34: RuntimeWarning: overflow encountered in exp\n",
      "  return 1.0 / (1.0 + np.exp(-neta))\n",
      "Processing: 100%|██████████| 750/750 [14:29<00:00,  1.16s/it, best_fitness=320, current_best=301]\n"
     ]
    }
   ],
   "source": [
    "population_size = 100\n",
    "\n",
    "pop = [MLP(ARCHITECTURE).to_chromosome() for _ in range(population_size)]\n",
    "\n",
    "# evolution (pop, fit, pmut, pcross, ngen, T)\n",
    "pop = evolution(pop, fitness, 0.1, pcross=0.9, ngen=750, T=8)"
   ]
  },
  {
   "cell_type": "code",
   "execution_count": 39,
   "id": "d5458e32",
   "metadata": {},
   "outputs": [
    {
     "name": "stderr",
     "output_type": "stream",
     "text": [
      "/home/corti/RLGAN/venv/lib/python3.10/site-packages/gymnasium/wrappers/rendering.py:283: UserWarning: \u001b[33mWARN: Overwriting existing videos at /home/corti/RLGAN/video folder (try specifying a different `video_folder` for the `RecordVideo` wrapper if this is not desired)\u001b[0m\n",
      "  logger.warn(\n"
     ]
    }
   ],
   "source": [
    "np.save(\"best_chromosome.npy\", pop[0])\n",
    "\n",
    "env = gym.make(\"LunarLander-v3\", render_mode=\"rgb_array\")\n",
    "env = RecordVideo(env, video_folder=\"./video\", episode_trigger=lambda x: True)\n",
    "\n",
    "observation, _ = env.reset()\n",
    "iters = 0\n",
    "while True:\n",
    "    model = MLP(ARCHITECTURE)\n",
    "    model.from_chromosome(pop[0])\n",
    "\n",
    "    action = policy(model, observation)\n",
    "    observation, _, terminated, truncated, _ = env.step(action)\n",
    "\n",
    "    env.render()\n",
    "\n",
    "    if any([truncated, terminated]):\n",
    "        observation, _ = env.reset()\n",
    "        iters += 1\n",
    "\n",
    "    if iters == 10:\n",
    "        break\n",
    "\n",
    "env.close()"
   ]
  },
  {
   "cell_type": "code",
   "execution_count": 40,
   "id": "c3c075e3",
   "metadata": {},
   "outputs": [],
   "source": [
    "video_folder = \"./video\"\n",
    "output_video = \"./video/output_video.mp4\"\n",
    "file_list_path = os.path.join(video_folder, \"file_list.txt\")\n",
    "\n",
    "video_files = sorted([f for f in os.listdir(video_folder) if f.endswith(\".mp4\")])\n",
    "\n",
    "with open(file_list_path, \"w\") as file:\n",
    "    for video in video_files:\n",
    "        file.write(f\"file '{video}'\\n\")\n",
    "\n",
    "# ffmpeg para unir los videos (hay que descargarlo en local)\n",
    "ffmpeg_command = [\n",
    "    \"ffmpeg\",\n",
    "    \"-f\", \"concat\",\n",
    "    \"-safe\", \"0\",\n",
    "    \"-i\", file_list_path,\n",
    "    \"-c\", \"copy\",\n",
    "    output_video\n",
    "]\n",
    "\n",
    "os.remove(file_list_path)"
   ]
  },
  {
   "cell_type": "markdown",
   "id": "0f7ceca6",
   "metadata": {},
   "source": [
    "<video controls>\n",
    "  <source src=\"./video/output_video.mp4\" type=\"video/mp4\">\n",
    "  Tu navegador no soporta el elemento de video.\n",
    "</video>"
   ]
  }
 ],
 "metadata": {
  "kernelspec": {
   "display_name": "venv",
   "language": "python",
   "name": "python3"
  },
  "language_info": {
   "codemirror_mode": {
    "name": "ipython",
    "version": 3
   },
   "file_extension": ".py",
   "mimetype": "text/x-python",
   "name": "python",
   "nbconvert_exporter": "python",
   "pygments_lexer": "ipython3",
   "version": "3.10.12"
  }
 },
 "nbformat": 4,
 "nbformat_minor": 5
}
