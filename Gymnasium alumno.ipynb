{
 "cells": [
  {
   "attachments": {},
   "cell_type": "markdown",
   "id": "3ce62d5d",
   "metadata": {},
   "source": [
    "### Documentación\n",
    "\n",
    "Problemas interesantes para Aprendizaje por refuerzo\n",
    " * Gymnasium: https://gymnasium.farama.org/environments/box2d/"
   ]
  },
  {
   "attachments": {},
   "cell_type": "markdown",
   "id": "57c172cf-929c-4be0-b79e-d3da9d17c343",
   "metadata": {},
   "source": [
    "## Instalación\n",
    "\n",
    "%pip install gymnasium  \n",
    "%pip install gymnasium[box2d] \n",
    "\n",
    "## Acciones adicionales\n",
    "\n",
    "Pueden ser necesarias *antes* de instalar gymnasium[box2d].\n",
    "\n",
    "### En macos\n",
    "\n",
    "pip uninstall swig  \n",
    "xcode-select -—install (instala las herramientas de desarrollador si no se tienen ya)  \n",
    "pip install swig  / sudo port install swig-python\n",
    "pip install 'gymnasium[box2d]' # en zsh hay que poner las comillas  \n",
    "\n",
    "### en Windows\n",
    "\n",
    "Si da error, se debe a la falta de la versión correcta de Microsoft C++ Build Tools, que es una dependencia de Box2D. Para solucionar este problema, puede seguir los siguientes pasos:\n",
    " * Descargar Microsoft C++ Build Tools desde https://visualstudio.microsoft.com/visual-cpp-build-tools/.\n",
    " * Dentro del instalador, seleccione la opción \"Desarrollo para el escritorio con C++\"\n",
    " * Reinicie su sesión en Jupyter Notebook o en Visual Studio.\n",
    " * Ejecute nuevamente el comando !pip install gymnasium[box2d] en la línea de comandos de su notebook.\n",
    "\n",
    "### En linux (colab)\n",
    "  * pip install swig"
   ]
  },
  {
   "cell_type": "code",
   "execution_count": null,
   "id": "d9a5faf9",
   "metadata": {},
   "outputs": [
    {
     "name": "stderr",
     "output_type": "stream",
     "text": [
      "c:\\Users\\alexg\\AppData\\Local\\Programs\\Python\\Python310\\lib\\site-packages\\gymnasium\\utils\\play.py:31: UserWarning: \u001b[33mWARN: matplotlib is not installed, run `pip install \"gymnasium[other]\"`\u001b[0m\n",
      "  logger.warn('matplotlib is not installed, run `pip install \"gymnasium[other]\"`')\n"
     ]
    },
    {
     "name": "stdout",
     "output_type": "stream",
     "text": [
      "[8, 6, 4]\n"
     ]
    },
    {
     "name": "stderr",
     "output_type": "stream",
     "text": [
      "Processing:  33%|███▎      | 100/301 [32:01<1:17:53, 23.25s/it, best_fitness=220, current_best=189]   c:\\Git\\RLGAN\\MLP.py:34: RuntimeWarning: overflow encountered in exp\n",
      "  return 1.0 / (1.0 + np.exp(-neta))\n",
      "Processing:  41%|████      | 124/301 [44:35<2:07:38, 43.27s/it, best_fitness=220, current_best=156]"
     ]
    }
   ],
   "source": [
    "import gymnasium as gym\n",
    "\n",
    "from real_numbers import evolve_himmelblau, fitness, get_architecture, set_architecture\n",
    "from MLP import MLP\n",
    "\n",
    "set_architecture([8, 6, 4])\n",
    "architecture = get_architecture()\n",
    "print(architecture)\n",
    "population_size = 100\n",
    "\n",
    "pop = [MLP(architecture).to_chromosome() for _ in range(population_size)]\n",
    "\n",
    "pop = evolve_himmelblau(pop, fitness, 0.1, pcross=0.9, ngen=301, T=4, trace=0)"
   ]
  },
  {
   "cell_type": "code",
   "execution_count": null,
   "id": "d5458e32",
   "metadata": {},
   "outputs": [],
   "source": [
    "import numpy as np\n",
    "from real_numbers import policy\n",
    "\n",
    "# save pop[0] to a file and architecture\n",
    "np.save(\"best_chromosome.npy\", pop[0])\n",
    "np.save(\"architecture.npy\", architecture)\n",
    "\n",
    "env = gym.make(\"LunarLander-v3\", render_mode=\"human\")\n",
    "\n",
    "observation, _ = env.reset()\n",
    "iters = 0\n",
    "while True:\n",
    "    model = MLP(get_architecture())\n",
    "    model.from_chromosome(pop[0])\n",
    "\n",
    "    action = policy(model, observation)\n",
    "    observation, _, terminated, truncated, _ = env.step(action)\n",
    "\n",
    "    if any([truncated, terminated]):\n",
    "        observation, _ = env.reset()\n",
    "        iters += 1\n",
    "\n",
    "    if iters == 10:\n",
    "        break\n",
    "\n",
    "env.close()\n"
   ]
  },
  {
   "cell_type": "markdown",
   "id": "163034a7",
   "metadata": {},
   "source": [
    "### ¿Cómo contruir el fitness para aplicar genéticos?\n",
    "\n",
    " * El módulo MLP ya tiene implementado el perceptrón multicapa. Se construye con MLP(architecture).\n",
    " * Architecture es una tupla (entradas, capa1, capa2, ...).\n",
    " * La función fitness toma el cromosoma del individuo y lo convierte a pesos del MLP con model.from_chromosome(ch).\n",
    " * usa run para N casos (esto da estabilidad) y calcula el refuerzo medio.\n",
    " * Este refuerzo medio es el fitness del individuo."
   ]
  },
  {
   "cell_type": "markdown",
   "id": "f7ff5933",
   "metadata": {},
   "source": [
    "#### ¿No has tenido bastante?\n",
    "\n",
    "Prueba a controlar el flappy bird https://github.com/markub3327/flappy-bird-gymnasium\n",
    "\n",
    "pip install flappy-bird-gymnasium\n",
    "\n",
    "import flappy_bird_gymnasium  \n",
    "env = gym.make(\"FlappyBird-v0\")\n",
    "\n",
    "Estado (12 variables):\n",
    "  * the last pipe's horizontal position\n",
    "  * the last top pipe's vertical position\n",
    "  * the last bottom pipe's vertical position\n",
    "  * the next pipe's horizontal position\n",
    "  * the next top pipe's vertical position\n",
    "  * he next bottom pipe's vertical position\n",
    "  * the next next pipe's horizontal position\n",
    "  * the next next top pipe's vertical position\n",
    "  * the next next bottom pipe's vertical position\n",
    "  * player's vertical position\n",
    "  * player's vertical velocity\n",
    "  * player's rotation\n",
    "\n",
    "  Acciones:\n",
    "  * 0 -> no hacer nada\n",
    "  * 1 -> volar"
   ]
  }
 ],
 "metadata": {
  "kernelspec": {
   "display_name": "Python 3",
   "language": "python",
   "name": "python3"
  },
  "language_info": {
   "codemirror_mode": {
    "name": "ipython",
    "version": 3
   },
   "file_extension": ".py",
   "mimetype": "text/x-python",
   "name": "python",
   "nbconvert_exporter": "python",
   "pygments_lexer": "ipython3",
   "version": "3.10.12"
  }
 },
 "nbformat": 4,
 "nbformat_minor": 5
}
